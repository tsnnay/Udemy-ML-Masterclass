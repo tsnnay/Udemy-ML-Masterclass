{
 "cells": [
  {
   "cell_type": "markdown",
   "id": "801f2cae",
   "metadata": {},
   "source": [
    "# Theory and Intuition\n",
    "First Hyperplanes and margins are discussed and incremental complexity in classifiers is shown, finally ending at Support Vector Machines\n",
    "\n",
    "* Maximum Margin Classifier\n",
    "* Support Vector Classifier \n",
    "* Support Vector Machines\n",
    "\n",
    "## Hyperplanes And Margins\n",
    "Understanding hyperplanes and margin classifiers in fundamental to understanding SVM\n",
    "\n",
    "### What is Hyperplane?\n",
    "In a N-dimensional space, a hyperplane is a flat affine subspace of hyperplane dimension N-1. For ex:\n",
    "* For 1-D, Hyperplane is a single point\n",
    "* For 2-D, Hyperplane is a line and so on\n",
    "\n",
    "### Why we bother with hyperplanes?\n",
    "The main idea is to use hyperplane to create separation between classes (fancy way of saying different types of data points). Our hope is such a hyperplane exists which can bifurcate differencing points in the space\n",
    "\n",
    "### Baby Chick Example\n",
    "1-D dataset of baby chicks (male or female) is plotted on a line, with maleo on RHS and female on LHS. Visually, data is easily separable.\n",
    "\n",
    "I this dataset, a single point in the middle of dataset can easily separate both datasets, but issue is **placing of the point**\n",
    "\n",
    "**Where to Place the Point?**\n",
    "Many points exists which can perfectly separate the points. We use a separator that maxifies the margin between hyperplane and first instance of each class. Such an hyperplane which maximises the margins is called __Maximum Margin Classifier__\n",
    "\n",
    "Same example can be applied in 2-D space, where classes are separated by line, but there are $\\inf$ lines which can separate. Again, we use maximise the margin (distance) between line and data points (each data point 2D vector here)\n",
    "\n",
    "### Unseparable Classes?\n",
    "NOt all classes will be easily separable (at least visually) showin in Fig. A single point will mess up at least one class, so we need to chose our poison. Our decision is guided by Bias-Variance Tradeoff\n",
    "\n",
    "**Bias Variance Tradeoff**\n",
    "Example _ and _ show how one can overfit hard to one particular dataset (however no. of point misclassified is same i.e. 1 in both cases). But it is obvious our classifier skews heavily female in _ and male in _. This can bite us in ass when we decide to test or deploy the model\n",
    "\n",
    "This is called **high variance fit**. In example _, it was \"picking too much noise from female data\" and thus, overfitting it or had a high variance w.r.t female data points. We can introduce **bias** for more logical classifier, even at the cost of training accuracy. This misclassification doing margin is called a *_soft margin_*, which allows for miscallsification within itself. We manipulate soft margin with introduction of bias. \n",
    "\n",
    "**But again, there are multiple threshold splits of soft margin, and **Maximum Margin** concept is already applied, so what else we can do to get optimum *soft margin*.**\n",
    "The answer lies in level of misclassification to be allowed. With *misclassification* as our north-star, we perform *Cross Validation* to figure out best *soft margin* amongst all.\n",
    "\n",
    "### Soft Margin Demonstraion\n",
    "Maximum margin classifer in this example skews heavily female, due to picking \"too much variance or too much noie\" from the female set. The highlighted figure _ shows Male classification zone is too larger than what seems necessary, and it can cause problems in test set. So, there is need to soften the margin we got from *Maximum Margin Classifer*\n",
    "\n",
    "So we introduce a new classifier, that allows for *soft margins*, called a *Support Vector Classifier*\n",
    "\n",
    "**What happens when Hyperplane theory falls on it face?**\n",
    "Cases _ and _ demonstrate the respective hyperplanes (point and lines resp.) fail here. Using multiple points can solve the issue in case _, but in _, group of lines is not gonna help much\n",
    "\n",
    "*In general, higher dimesions make it difficult to use multiple hyperplanes*\n",
    "\n",
    "And that's the limitation of *Support Vector Classifier* and rationale to move on to *Suppport Vector Machines*\n",
    "\n",
    "![Image Caption](./wine.jpg){#fig:label}\n",
    "\n",
    "\\begin{figure}\n",
    "    \\includegraphics{./wine.jpg}\n",
    "\\end{figure}"
   ]
  },
  {
   "cell_type": "code",
   "execution_count": null,
   "id": "62a365f5",
   "metadata": {},
   "outputs": [],
   "source": []
  }
 ],
 "metadata": {
  "jupytext": {
   "cell_metadata_filter": "-all",
   "formats": "md,ipynb",
   "notebook_metadata_filter": "-all",
   "text_representation": {
    "extension": ".md",
    "format_name": "markdown"
   }
  },
  "kernelspec": {
   "display_name": "Python 3",
   "language": "python",
   "name": "python3"
  },
  "language_info": {
   "codemirror_mode": {
    "name": "ipython",
    "version": 3
   },
   "file_extension": ".py",
   "mimetype": "text/x-python",
   "name": "python",
   "nbconvert_exporter": "python",
   "pygments_lexer": "ipython3",
   "version": "3.7.9"
  },
  "latex_envs": {
   "LaTeX_envs_menu_present": true,
   "autoclose": false,
   "autocomplete": true,
   "bibliofile": "biblio.bib",
   "cite_by": "apalike",
   "current_citInitial": 1,
   "eqLabelWithNumbers": true,
   "eqNumInitial": 1,
   "hotkeys": {
    "equation": "Ctrl-E",
    "itemize": "Ctrl-I"
   },
   "labels_anchors": false,
   "latex_user_defs": false,
   "report_style_numbering": false,
   "user_envs_cfg": false
  },
  "toc": {
   "base_numbering": 1,
   "nav_menu": {},
   "number_sections": true,
   "sideBar": true,
   "skip_h1_title": false,
   "title_cell": "Table of Contents",
   "title_sidebar": "Contents",
   "toc_cell": false,
   "toc_position": {},
   "toc_section_display": true,
   "toc_window_display": false
  },
  "varInspector": {
   "cols": {
    "lenName": 16,
    "lenType": 16,
    "lenVar": 40
   },
   "kernels_config": {
    "python": {
     "delete_cmd_postfix": "",
     "delete_cmd_prefix": "del ",
     "library": "var_list.py",
     "varRefreshCmd": "print(var_dic_list())"
    },
    "r": {
     "delete_cmd_postfix": ") ",
     "delete_cmd_prefix": "rm(",
     "library": "var_list.r",
     "varRefreshCmd": "cat(var_dic_list()) "
    }
   },
   "types_to_exclude": [
    "module",
    "function",
    "builtin_function_or_method",
    "instance",
    "_Feature"
   ],
   "window_display": false
  }
 },
 "nbformat": 4,
 "nbformat_minor": 5
}
